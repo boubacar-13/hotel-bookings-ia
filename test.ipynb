{
 "cells": [
  {
   "cell_type": "code",
   "execution_count": 20,
   "metadata": {},
   "outputs": [
    {
     "data": {
      "text/plain": [
       "'{\"message\":\"Hello World\"}'"
      ]
     },
     "execution_count": 20,
     "metadata": {},
     "output_type": "execute_result"
    }
   ],
   "source": [
    "import requests\n",
    "\n",
    "response = requests.get(\"http://127.0.0.1:8000\")\n",
    "response.text"
   ]
  },
  {
   "cell_type": "code",
   "execution_count": 7,
   "metadata": {},
   "outputs": [
    {
     "name": "stdout",
     "output_type": "stream",
     "text": [
      "Requirement already satisfied: joblib in c:\\python310\\lib\\site-packages (1.4.0)\n"
     ]
    },
    {
     "name": "stderr",
     "output_type": "stream",
     "text": [
      "WARNING: Ignoring invalid distribution - (c:\\python310\\lib\\site-packages)\n",
      "WARNING: Ignoring invalid distribution -p (c:\\python310\\lib\\site-packages)\n",
      "WARNING: Ignoring invalid distribution -ip (c:\\python310\\lib\\site-packages)\n",
      "WARNING: Ignoring invalid distribution -p (c:\\python310\\lib\\site-packages)\n",
      "WARNING: Ignoring invalid distribution - (c:\\python310\\lib\\site-packages)\n",
      "WARNING: Ignoring invalid distribution -p (c:\\python310\\lib\\site-packages)\n",
      "WARNING: Ignoring invalid distribution -ip (c:\\python310\\lib\\site-packages)\n",
      "WARNING: Ignoring invalid distribution -p (c:\\python310\\lib\\site-packages)\n"
     ]
    }
   ],
   "source": [
    "!pip install joblib"
   ]
  },
  {
   "cell_type": "code",
   "execution_count": 31,
   "metadata": {},
   "outputs": [
    {
     "ename": "NameError",
     "evalue": "name 'joblib' is not defined",
     "output_type": "error",
     "traceback": [
      "\u001b[1;31m---------------------------------------------------------------------------\u001b[0m",
      "\u001b[1;31mNameError\u001b[0m                                 Traceback (most recent call last)",
      "Cell \u001b[1;32mIn[31], line 4\u001b[0m\n\u001b[0;32m      1\u001b[0m \u001b[38;5;28;01mfrom\u001b[39;00m \u001b[38;5;21;01mjoblib\u001b[39;00m \u001b[38;5;28;01mimport\u001b[39;00m load\n\u001b[0;32m      3\u001b[0m \u001b[38;5;66;03m# Charger le modèle sauvegardé\u001b[39;00m\n\u001b[1;32m----> 4\u001b[0m model \u001b[38;5;241m=\u001b[39m \u001b[43mjoblib\u001b[49m\u001b[38;5;241m.\u001b[39mload(\u001b[38;5;124m'\u001b[39m\u001b[38;5;124mmodele_decision_tree.pkl\u001b[39m\u001b[38;5;124m'\u001b[39m)\n",
      "\u001b[1;31mNameError\u001b[0m: name 'joblib' is not defined"
     ]
    }
   ],
   "source": [
    "from joblib import load\n",
    "\n",
    "# Charger le modèle sauvegardé\n",
    "model = joblib.load('modele_decision_tree.pkl')"
   ]
  },
  {
   "cell_type": "code",
   "execution_count": 26,
   "metadata": {},
   "outputs": [
    {
     "data": {
      "text/plain": [
       "[3, 1, 2, 3, 0, 50, 2017, 10, 10, 0, 0, 0, 95, 0]"
      ]
     },
     "execution_count": 26,
     "metadata": {},
     "output_type": "execute_result"
    }
   ],
   "source": [
    "data = {\n",
    "  \"no_of_adults\": 3,\n",
    "  \"no_of_children\": 1,\n",
    "  \"no_of_weekend_nights\": 2,\n",
    "  \"no_of_week_nights\": 3,\n",
    "  \"required_car_parking_space\": 0,\n",
    "  \"lead_time\": 50,\n",
    "  \"arrival_year\": 2017,\n",
    "  \"arrival_month\": 10,\n",
    "  \"arrival_date\": 10,\n",
    "  \"repeated_guest\": 0,\n",
    "  \"no_of_previous_cancellations\": 0,\n",
    "  \"no_of_previous_bookings_not_canceled\": 0,\n",
    "  \"avg_price_per_room\": 95,\n",
    "  \"no_of_special_requests\": 0\n",
    "}\n",
    "\n",
    "list(data.values())"
   ]
  },
  {
   "cell_type": "code",
   "execution_count": 30,
   "metadata": {},
   "outputs": [
    {
     "data": {
      "text/plain": [
       "'Internal Server Error'"
      ]
     },
     "execution_count": 30,
     "metadata": {},
     "output_type": "execute_result"
    }
   ],
   "source": [
    "data = {\n",
    "     \"no_of_adults\": 3,\n",
    "     \"no_of_children\": 1,\n",
    "     \"no_of_weekend_nights\": 2,\n",
    "     \"no_of_week_nights\": 3,\n",
    "     \"required_car_parking_space\": 0,\n",
    "     \"lead_time\": 50,\n",
    "     \"arrival_year\": 2017,\n",
    "     \"arrival_month\": 10,\n",
    "     \"arrival_date\": 10,\n",
    "     \"repeated_guest\": 0,\n",
    "     \"no_of_previous_cancellations\": 0,\n",
    "     \"no_of_previous_bookings_not_canceled\": 0,\n",
    "     \"avg_price_per_room\": 95,\n",
    "     \"no_of_special_requests\": 0\n",
    "}\n",
    "\n",
    "requests.post(\"http://127.0.0.1:8000/predict\", json=data).text\n"
   ]
  }
 ],
 "metadata": {
  "kernelspec": {
   "display_name": "Python 3",
   "language": "python",
   "name": "python3"
  },
  "language_info": {
   "codemirror_mode": {
    "name": "ipython",
    "version": 3
   },
   "file_extension": ".py",
   "mimetype": "text/x-python",
   "name": "python",
   "nbconvert_exporter": "python",
   "pygments_lexer": "ipython3",
   "version": "3.10.4"
  }
 },
 "nbformat": 4,
 "nbformat_minor": 2
}
